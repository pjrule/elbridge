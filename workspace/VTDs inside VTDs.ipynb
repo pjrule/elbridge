{
 "cells": [
  {
   "cell_type": "code",
   "execution_count": 1,
   "metadata": {},
   "outputs": [
    {
     "name": "stderr",
     "output_type": "stream",
     "text": [
      "/Users/pjrule/anaconda3/lib/python3.6/site-packages/pysal/__init__.py:65: VisibleDeprecationWarning: PySAL's API will be changed on 2018-12-31. The last release made with this API is version 1.14.4. A preview of the next API version is provided in the `pysal` 2.0 prelease candidate. The API changes and a guide on how to change imports is provided at https://pysal.org/about\n",
      "  ), VisibleDeprecationWarning)\n"
     ]
    }
   ],
   "source": [
    "import pickle\n",
    "wi = pickle.load(open('wi_data/wi_160.pkl', 'rb'))"
   ]
  },
  {
   "cell_type": "code",
   "execution_count": 6,
   "metadata": {},
   "outputs": [
    {
     "name": "stdout",
     "output_type": "stream",
     "text": [
      "104 {105: 1.0}\n",
      "394 {395: 1.0}\n",
      "496 {497: 1.0}\n",
      "702 {747: 1.0}\n",
      "773 {774: 1.0}\n",
      "777 {790: 1.0}\n",
      "779 {793: 1.0}\n",
      "799 {440: 1.0}\n",
      "814 {815: 1.0}\n",
      "1042 {1029: 1.0}\n",
      "1043 {1030: 1.0}\n",
      "1156 {828: 1.0}\n",
      "1218 {1209: 1.0}\n",
      "1277 {1338: 1.0}\n",
      "1284 {1285: 1.0}\n",
      "1296 {920: 1.0}\n",
      "1330 {1399: 1.0}\n",
      "1354 {1365: 1.0}\n",
      "1432 {1422: 1.0}\n",
      "1483 {1523: 1.0}\n",
      "1659 {1654: 1.0}\n",
      "1737 {1804: 1.0}\n",
      "1746 {1747: 1.0}\n",
      "1756 {1804: 1.0}\n",
      "1805 {1800: 1.0}\n",
      "1872 {1871: 1.0}\n",
      "1883 {1884: 1.0}\n",
      "1885 {6902: 1.0}\n",
      "1933 {1934: 1.0}\n",
      "1943 {1944: 1.0}\n",
      "1965 {1966: 1.0}\n",
      "1984 {1985: 1.0}\n",
      "2052 {2053: 1.0}\n",
      "2074 {2089: 1.0}\n",
      "2114 {2099: 1.0}\n",
      "2179 {2180: 1.0}\n",
      "2186 {2185: 1.0}\n",
      "2286 {2342: 1.0}\n",
      "2301 {6923: 1.0}\n",
      "2455 {2498: 1.0}\n",
      "2522 {2524: 1.0}\n",
      "2685 {2686: 1.0}\n",
      "2698 {2699: 1.0}\n",
      "2734 {2735: 1.0}\n",
      "2837 {2832: 1.0}\n",
      "2878 {2821: 1.0}\n",
      "2914 {2913: 1.0}\n",
      "2939 {2940: 1.0}\n",
      "3169 {3170: 1.0}\n",
      "3775 {3770: 1.0}\n",
      "3790 {3795: 1.0}\n",
      "3791 {3792: 1.0}\n",
      "3844 {3778: 1.0}\n",
      "3847 {3785: 1.0}\n",
      "3857 {3765: 1.0}\n",
      "3880 {3881: 1.0}\n",
      "4160 {4062: 1.0}\n",
      "4177 {4042: 1.0}\n",
      "4291 {4292: 1.0}\n",
      "4296 {4318: 1.0}\n",
      "4319 {4320: 1.0}\n",
      "4326 {4356: 1.0}\n",
      "4407 {4408: 1.0}\n",
      "4429 {4430: 1.0}\n",
      "4459 {4442: 1.0}\n",
      "4477 {4428: 1.0}\n",
      "4545 {4546: 1.0}\n",
      "4607 {4589: 1.0}\n",
      "4742 {4748: 1.0}\n",
      "4962 {5007: 1.0}\n",
      "4969 {4970: 1.0}\n",
      "4995 {4989: 1.0}\n",
      "5006 {4958: 1.0}\n",
      "5024 {5023: 1.0}\n",
      "5179 {5180: 1.0}\n",
      "5189 {5237: 1.0}\n",
      "5249 {5250: 1.0}\n",
      "5254 {5283: 1.0}\n",
      "5325 {5318: 1.0}\n",
      "5349 {5304: 1.0}\n",
      "5455 {5449: 1.0}\n",
      "5501 {5520: 1.0}\n",
      "5592 {5593: 1.0}\n",
      "5616 {5612: 1.0}\n",
      "5810 {5696: 1.0}\n",
      "6058 {6026: 1.0}\n",
      "6418 {6423: 1.0}\n",
      "6432 {6528: 1.0}\n",
      "6533 {6534: 1.0}\n",
      "6538 {6539: 1.0}\n",
      "6623 {6599: 1.0}\n",
      "6624 {6599: 1.0}\n",
      "6643 {6604: 1.0}\n",
      "6668 {6670: 1.0}\n",
      "6716 {6715: 1.0}\n",
      "6758 {6759: 1.0}\n",
      "6777 {6804: 1.0}\n",
      "6870 {6856: 1.0}\n",
      "6891 {3167: 1.0}\n"
     ]
    }
   ],
   "source": [
    "for idx, adj in wi.adj:\n",
    "    if len(adj) == 1:\n",
    "        print(idx, adj)"
   ]
  },
  {
   "cell_type": "code",
   "execution_count": 15,
   "metadata": {},
   "outputs": [
    {
     "data": {
      "image/png": "[encoded data removed]",
      "text/plain": [
       "<Figure size 432x288 with 1 Axes>"
      ]
     },
     "metadata": {},
     "output_type": "display_data"
    }
   ],
   "source": [
    "import matplotlib.pyplot as plt\n",
    "wi.df.iloc[[6891,3167]].plot()\n",
    "plt.show()"
   ]
  },
  {
   "cell_type": "code",
   "execution_count": 16,
   "metadata": {},
   "outputs": [
    {
     "data": {
      "text/plain": [
       "index                                                              3169\n",
       "geo_id                                                   55077546000001\n",
       "geometry              POLYGON ((522264.3164936065 715368.1340058187,...\n",
       "county                                                            55077\n",
       "city                                                         5507754600\n",
       "white_pop                                                           415\n",
       "minority_pop                                                         18\n",
       "dv_2006                                                               0\n",
       "rv_2006                                                             121\n",
       "rv_vote_share_2006                                                    1\n",
       "dv_2008                                                              80\n",
       "rv_2008                                                             117\n",
       "rv_vote_share_2008                                             0.593909\n",
       "dv_2010                                                              41\n",
       "rv_2010                                                             111\n",
       "rv_vote_share_2010                                             0.730263\n",
       "dv_2012                                                              76\n",
       "rv_2012                                                             103\n",
       "rv_vote_share_2012                                             0.575419\n",
       "dv_2014                                                              77\n",
       "rv_2014                                                              92\n",
       "rv_vote_share_2014                                             0.544379\n",
       "dv_2016                                                              81\n",
       "rv_2016                                                             104\n",
       "rv_vote_share_2016                                             0.562162\n",
       "minority_prop                                                 0.0415704\n",
       "Name: 3167, dtype: object"
      ]
     },
     "execution_count": 16,
     "metadata": {},
     "output_type": "execute_result"
    }
   ],
   "source": [
    "wi.df.iloc[3167]"
   ]
  },
  {
   "cell_type": "code",
   "execution_count": null,
   "metadata": {},
   "outputs": [],
   "source": []
  }
 ],
 "metadata": {
  "kernelspec": {
   "display_name": "Python 3",
   "language": "python",
   "name": "python3"
  },
  "language_info": {
   "codemirror_mode": {
    "name": "ipython",
    "version": 3
   },
   "file_extension": ".py",
   "mimetype": "text/x-python",
   "name": "python",
   "nbconvert_exporter": "python",
   "pygments_lexer": "ipython3",
   "version": "3.6.5"
  }
 },
 "nbformat": 4,
 "nbformat_minor": 2
}
