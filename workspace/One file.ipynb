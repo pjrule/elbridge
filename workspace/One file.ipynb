{
 "cells": [
  {
   "cell_type": "code",
   "execution_count": 2,
   "metadata": {},
   "outputs": [
    {
     "name": "stderr",
     "output_type": "stream",
     "text": [
      "/Users/pjrule/anaconda3/lib/python3.6/site-packages/pysal/weights/weights.py:189: UserWarning: There are 2 disconnected observations\n",
      "  warnings.warn(\"There are %d disconnected observations\" % ni)\n",
      "/Users/pjrule/anaconda3/lib/python3.6/site-packages/pysal/weights/weights.py:190: UserWarning: Island ids: 60, 1803\n",
      "  warnings.warn(\"Island ids: %s\" % ', '.join(str(island) for island in self.islands))\n"
     ]
    }
   ],
   "source": [
    "import states\n",
    "# TODO: avoid constant\n",
    "ALPHA = 0.9340717826304465 # known constant for WI\n",
    "wi_256 = states.Wisconsin('../data/WI/ward_maps/2020/2012_2020_Election_Data_with_2017_Wards.shp','../data/WI/vtd_elections.csv',\n",
    "                          '../data/WI/vtd_demographics.csv',\n",
    "                          160000,\n",
    "                          round(256**2 * ALPHA))\n",
    "wi_256.load_geo_mapping()\n",
    "wi_256.load_density_mapping()"
   ]
  },
  {
   "cell_type": "code",
   "execution_count": 6,
   "metadata": {},
   "outputs": [
    {
     "name": "stderr",
     "output_type": "stream",
     "text": [
      "100%|██████████| 255/255 [01:59<00:00,  2.14it/s]\n",
      "100%|██████████| 413/413 [16:26:05<00:00, 143.26s/it]\n"
     ]
    }
   ],
   "source": [
    "wi_256.reset()\n",
    "wi_256.load_geo_mapping()\n",
    "wi_256.load_density_mapping()"
   ]
  },
  {
   "cell_type": "code",
   "execution_count": 9,
   "metadata": {},
   "outputs": [],
   "source": [
    "import pickle\n",
    "wi_256.graph = None\n",
    "pickle.dump(wi_256, open('wi_256.pkl', 'wb'))"
   ]
  },
  {
   "cell_type": "code",
   "execution_count": null,
   "metadata": {},
   "outputs": [],
   "source": []
  }
 ],
 "metadata": {
  "kernelspec": {
   "display_name": "Python 3",
   "language": "python",
   "name": "python3"
  },
  "language_info": {
   "codemirror_mode": {
    "name": "ipython",
    "version": 3
   },
   "file_extension": ".py",
   "mimetype": "text/x-python",
   "name": "python",
   "nbconvert_exporter": "python",
   "pygments_lexer": "ipython3",
   "version": "3.6.5"
  }
 },
 "nbformat": 4,
 "nbformat_minor": 2
}
